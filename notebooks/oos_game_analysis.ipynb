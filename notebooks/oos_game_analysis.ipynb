{
 "cells": [
  {
   "cell_type": "code",
   "execution_count": 1,
   "metadata": {},
   "outputs": [
    {
     "name": "stdout",
     "output_type": "stream",
     "text": [
      "<class 'dict'>\n",
      "dict_keys(['team_prison_d', 'team_delight_d', 'team_staghunt_d', 'team_snowdrift_d', 'IR_prison_d', 'IR_delight_d', 'IR_staghunt_d', 'IR_snowdrift_d', 'friendsharing_prison_d', 'friendsharing_delight_d', 'friendsharing_staghunt_d', 'friendsharing_snowdrift_d', 'biz_prison_d', 'biz_delight_d', 'biz_staghunt_d', 'biz_snowdrift_d', 'environment_prison_d', 'environment_delight_d', 'environment_staghunt_d', 'environment_snowdrift_d'])\n"
     ]
    }
   ],
   "source": [
    "import matplotlib.pyplot as plt\n",
    "import numpy as np\n",
    "import pickle \n",
    "import re\n",
    "import os\n",
    "\n",
    "from PIL import Image\n",
    "\n",
    "\n",
    "# Sample data dictionary (replace this with your actual data)\n",
    "\n",
    "llm = '7b-fixed'\n",
    "\n",
    "data = pickle.load(open(os.path.join(\"../oos_game/\", llm+\"-results-oog.txt\"), \"rb\" ))\n",
    "\n",
    "# data type\n",
    "print(type(data))\n",
    "\n",
    "# data info\n",
    "print(data.keys())"
   ]
  },
  {
   "cell_type": "code",
   "execution_count": 55,
   "metadata": {},
   "outputs": [],
   "source": [
    "# check for invalid values\n",
    "for key in data.keys():\n",
    "    for item in data[key]:\n",
    "        if item != '  C' and item != '  D':\n",
    "            print(key, item)"
   ]
  },
  {
   "cell_type": "code",
   "execution_count": null,
   "metadata": {},
   "outputs": [],
   "source": [
    "# create a function to show the distribution of the data\n",
    "# return a dictionary, with keys as the keys of the input dictionary, and values as the distribution of the data\n",
    "def show_distribution(data):\n",
    "    distribution = {}\n",
    "    for key in data.keys():\n",
    "        distribution[key] = {}\n",
    "        for item in data[key]:\n",
    "            if item not in distribution[key]:\n",
    "                distribution[key][item] = 1\n",
    "            else:\n",
    "                distribution[key][item] += 1\n",
    "    return distribution\n",
    "\n",
    "# show the distribution of the data\n",
    "distribution = show_distribution(data)\n",
    "\n",
    "# save the distribution to a .txt file\n",
    "with open(os.path.join(\"../oos_game/\", llm+\"_distribution.txt\"), \"x\") as f:\n",
    "    for key in distribution.keys():\n",
    "        # write each line like this: key: {item1: count1, item2: count2}\n",
    "        f.write(key + ': ' + str(distribution[key]) + '\\n')\n",
    "\n",
    "print('Distribution saved to ' + llm + '_distribution.txt')"
   ]
  },
  {
   "cell_type": "code",
   "execution_count": 16,
   "metadata": {},
   "outputs": [
    {
     "name": "stdout",
     "output_type": "stream",
     "text": [
      "All data saved to all_data.txt\n",
      "All data saved to all_data.pkl\n"
     ]
    }
   ],
   "source": [
    "# read dictionary from .txt file\n",
    "def read_distribution(file_path):\n",
    "    with open(file_path, \"r\") as f:\n",
    "        lines = f.readlines()\n",
    "    distribution = {}\n",
    "    for line in lines:\n",
    "        # each line is like this: key: {item1: count1, item2: count2}\n",
    "        # first, split by the first ': ' to get the key\n",
    "        # then, split by the '{' and '}' to get the value\n",
    "        key, value = line.split(': {')\n",
    "        value = value[0:-2].split(', ')\n",
    "        value = {item.split(': ')[0][1:-1]: int(item.split(': ')[1]) for item in value}\n",
    "        distribution[key] = value\n",
    "    return distribution\n",
    "\n",
    "# show the distribution\n",
    "# print(distribution)\n",
    "\n",
    "all_data = {}\n",
    "llms = ['7b-fixed', '7b-fined', '70b-fixed']\n",
    "for llm in llms:\n",
    "    distribution = read_distribution(os.path.join(\"../oos_game\", llm+\"_distribution.txt\"))\n",
    "    all_data[llm] = distribution\n",
    "    \n",
    "# save the all_data dictionary to a .txt file\n",
    "with open(os.path.join(\"../oos_game\", \"all_data_reasoning.txt\"), \"w\") as f:\n",
    "    f.write(str(all_data))\n",
    "    \n",
    "print('All data saved to all_data.txt')\n",
    "\n",
    "# save to a .pkl file\n",
    "pickle.dump(all_data, open(os.path.join(\"../oos_game\", \"all_data_reasoning.pkl\"), \"wb\"))\n",
    "\n",
    "print('All data saved to all_data.pkl')"
   ]
  },
  {
   "cell_type": "code",
   "execution_count": 57,
   "metadata": {},
   "outputs": [
    {
     "name": "stdout",
     "output_type": "stream",
     "text": [
      "['team_prison_oos', 'team_delight_oos', 'team_staghunt_oos', 'team_snowdrift_oos', 'IR_prison_oos', 'IR_delight_oos', 'IR_staghunt_oos', 'IR_snowdrift_oos', 'friendsharing_prison_oos', 'friendsharing_delight_oos', 'friendsharing_staghunt_oos', 'friendsharing_snowdrift_oos', 'biz_prison_oos', 'biz_delight_oos', 'biz_staghunt_oos', 'biz_snowdrift_oos', 'environment_prison_oos', 'environment_delight_oos', 'environment_staghunt_oos', 'environment_snowdrift_oos']\n"
     ]
    }
   ],
   "source": [
    "def compare_distribution_for_each_game(all_data, game):\n",
    "    plt.figure()\n",
    "    bar_width = 0.2  # Width of each bar\n",
    "    bar_positions = []  # List to store the x positions of bars\n",
    "\n",
    "    for index, llm in enumerate(all_data.keys()):\n",
    "        valid_keys = all_data[llm][game].keys()\n",
    "        # Generate x positions for bars\n",
    "        x = [pos + bar_width * index for pos in range(len(valid_keys))]\n",
    "        bar_positions.append(x)\n",
    "        # color = 'b' if llm == '7b_org' else 'orange' if llm == '7b_finetuned' else 'red'\n",
    "        color = 'blue' if llm == '7b-fixed' else 'orange' if llm == '7b-fined' else 'green'\n",
    "        plt.bar(x, all_data[llm][game].values(), width=bar_width, alpha=0.5, label=llm, color=color)\n",
    "\n",
    "    # Adjust xticks to the middle of the grouped bars\n",
    "    plt.xticks([pos + bar_width * (len(all_data) - 1) / 2 for pos in range(len(valid_keys))], valid_keys)\n",
    "\n",
    "    plt.xlabel(game)\n",
    "    plt.ylabel('Count')\n",
    "    plt.title(game + ' distribution')\n",
    "    plt.legend()\n",
    "    plt.show()\n",
    "\n",
    "# compare the distribution of different models\n",
    "def compare_distribution(all_data, keys):\n",
    "    for key in keys:\n",
    "        compare_distribution_for_each_game(all_data, key)\n",
    "        print(key)\n",
    "\n",
    "# compare the distribution of different models\n",
    "keys = [item for item in data.keys()]\n",
    "print(keys)\n",
    "compare_distribution(all_data, keys)"
   ]
  },
  {
   "cell_type": "code",
   "execution_count": 83,
   "metadata": {},
   "outputs": [
    {
     "data": {
      "text/plain": [
       "defaultdict(list,\n",
       "            {'prison': ['team_prison_oos',\n",
       "              'IR_prison_oos',\n",
       "              'friendsharing_prison_oos',\n",
       "              'biz_prison_oos',\n",
       "              'environment_prison_oos'],\n",
       "             'delight': ['team_delight_oos',\n",
       "              'IR_delight_oos',\n",
       "              'friendsharing_delight_oos',\n",
       "              'biz_delight_oos',\n",
       "              'environment_delight_oos'],\n",
       "             'staghunt': ['team_staghunt_oos',\n",
       "              'IR_staghunt_oos',\n",
       "              'friendsharing_staghunt_oos',\n",
       "              'biz_staghunt_oos',\n",
       "              'environment_staghunt_oos'],\n",
       "             'snowdrift': ['team_snowdrift_oos',\n",
       "              'IR_snowdrift_oos',\n",
       "              'friendsharing_snowdrift_oos',\n",
       "              'biz_snowdrift_oos',\n",
       "              'environment_snowdrift_oos']})"
      ]
     },
     "execution_count": 83,
     "metadata": {},
     "output_type": "execute_result"
    }
   ],
   "source": [
    "from collections import defaultdict\n",
    "\n",
    "categorized_keys = defaultdict(list)\n",
    "for item in keys:\n",
    "    prefix = item.split('_')[1]  # Get the prefix before the underscore\n",
    "    categorized_keys[prefix].append(item)\n",
    "# 0 is for context, 1 is for game\n",
    "\n",
    "# Extract values from the dictionary to get the list of lists\n",
    "categorized_keys"
   ]
  },
  {
   "cell_type": "code",
   "execution_count": 87,
   "metadata": {},
   "outputs": [
    {
     "name": "stdout",
     "output_type": "stream",
     "text": [
      "prison\n",
      "['team', 'IR', 'friendsharing', 'biz', 'environment']\n",
      "delight\n",
      "['team', 'IR', 'friendsharing', 'biz', 'environment']\n",
      "staghunt\n",
      "['team', 'IR', 'friendsharing', 'biz', 'environment']\n",
      "snowdrift\n",
      "['team', 'IR', 'friendsharing', 'biz', 'environment']\n"
     ]
    }
   ],
   "source": [
    "def aggregated_comparison_by_category(all_data, category, category_type):\n",
    "    llms = all_data.keys()\n",
    "    plt.figure(figsize=(10, 5))\n",
    "    bar_width = 0.2\n",
    "    llm_colors = {'7b-fixed': 'blue', '7b-fined': 'orange', '70b-fixed': 'green'}  # Add colors for other LLMs as needed\n",
    "    legend_handles = []\n",
    "    \n",
    "    for index, llm in enumerate(llms):\n",
    "        distribution = all_data[llm]\n",
    "\n",
    "        # filter games in distribution that have the context in the name\n",
    "        valid_games = [game for game in distribution.keys() if category in game]\n",
    "        \n",
    "        # set the x positions for bars\n",
    "        x = [pos + bar_width * index for pos in range(len(valid_games))]\n",
    "        \n",
    "        for i, game in enumerate(valid_games):\n",
    "            # only show the value for key: '  C'\n",
    "            color = llm_colors[llm]\n",
    "            # print(llm, game, distribution[game]['  C'], x[i])\n",
    "            plt.bar(x[i], distribution[game]['  C'], width=bar_width, alpha=0.5, label=game, color=color)\n",
    "            \n",
    "        # Add legend entry for current LLM\n",
    "        legend_handles.append(plt.Rectangle((0, 0), 1, 1, fc=color, alpha=0.5, edgecolor='none'))\n",
    "    \n",
    "    # edited valid games should remove its context part if the category is 'Context'\n",
    "    # edited valid games should remove its game part if the category is 'Game'\n",
    "    if category_type == 'Game':\n",
    "        edited_valid_games = [re.sub(r'_.*', '', game) for game in valid_games]\n",
    "    else:\n",
    "        # edited_valid_games is a list of strings like a_b_c.\n",
    "        # We want to remove the first part of the string, and keep the second and third part all together.\n",
    "        # the initial format is a_b_c, and the final format should be b_c.\n",
    "        edited_valid_games = [re.sub(r'^[^_]*_', '', game) for game in valid_games]\n",
    "        \n",
    "    # print(valid_games)\n",
    "    print(edited_valid_games)\n",
    "    valid_games = edited_valid_games\n",
    "    \n",
    "    plt.xticks([pos + bar_width * (len(valid_games) - 1) / 3 for pos in range(len(valid_games))], valid_games, fontsize=15)\n",
    "    # set the xticks size to be larger\n",
    "    \n",
    "    category = category + '_oos'\n",
    "    plt.xlabel(category, fontsize=15)\n",
    "    plt.ylabel('Cooperation', fontsize=15)\n",
    "    plt.title(f'{category_type} {category} distribution', fontdict={'fontsize': 16})\n",
    "    plt.legend(legend_handles, llms, loc='lower right', title='LLM')\n",
    "    # plt.show()\n",
    "    # save plot\n",
    "    if category_type == 'Context':\n",
    "        plt.savefig(os.path.join(\"../oos_game_figs/context\", category + '_distribution.png'))\n",
    "    else:\n",
    "        plt.savefig(os.path.join(\"../oos_game_figs/game\", category + '_distribution.png'))\n",
    "    plt.close()\n",
    "\n",
    "for category in categorized_keys:\n",
    "    print(category)\n",
    "    aggregated_comparison_by_category(all_data, category, category_type='Game')\n",
    "\n"
   ]
  },
  {
   "cell_type": "code",
   "execution_count": 88,
   "metadata": {},
   "outputs": [
    {
     "name": "stdout",
     "output_type": "stream",
     "text": [
      "Images merged and saved to ../oos_game_figs/context_distribution.png\n"
     ]
    }
   ],
   "source": [
    "def merge_images(folder_path, output_path):\n",
    "    # merge three .png files into one .png file, using the following layout:\n",
    "    # 1 2\n",
    "    #  3\n",
    "    # 4 5\n",
    "\n",
    "    # get all the .png files in the folder\n",
    "    files = [f for f in os.listdir(folder_path) if f.endswith('.png')]\n",
    "    files.sort()\n",
    "    \n",
    "    # open all the images\n",
    "    images = [Image.open(os.path.join(folder_path, f)) for f in files]\n",
    "    \n",
    "    # get the size of the images\n",
    "    width, height = images[0].size\n",
    "    total_width = 2 * width\n",
    "    total_height = 3 * height\n",
    "    \n",
    "    # create a new image with the size of the merged image\n",
    "    new_image = Image.new('RGB', (total_width, total_height))\n",
    "    \n",
    "    # paste the images to the new image\n",
    "    new_image.paste(images[0], (0, 0))\n",
    "    new_image.paste(images[1], (width, 0))\n",
    "    new_image.paste(images[2], (width // 2, height))\n",
    "    new_image.paste(images[3], (0, 2 * height))\n",
    "    new_image.paste(images[4], (width, 2 * height))\n",
    "        \n",
    "    \n",
    "    # make the empty space in the left and right of the middle image white\n",
    "    for j in range(height):\n",
    "        for i in range(width//2):\n",
    "            new_image.putpixel((i, height + j), (255, 255, 255))\n",
    "        for i in range(width*3//2, 2*width):\n",
    "            new_image.putpixel((i, height + j), (255, 255, 255))\n",
    "       \n",
    "    # save the new image\n",
    "    new_image.save(output_path)\n",
    "    print('Images merged and saved to ' + output_path)\n",
    "\n",
    "merge_images(os.path.join(\"../oos_game_figs/context\"), os.path.join(\"../oos_game_figs\", \"context_distribution.png\"))"
   ]
  },
  {
   "cell_type": "code",
   "execution_count": 89,
   "metadata": {},
   "outputs": [
    {
     "name": "stdout",
     "output_type": "stream",
     "text": [
      "Images merged and saved to ../oos_game_figs/game_distribution.png\n"
     ]
    }
   ],
   "source": [
    "def merge_images_of_four(folder_path, output_path):\n",
    "    # merge four .png files into one .png file, using the following layout:\n",
    "    # 1 2\n",
    "    # 3 4\n",
    "    \n",
    "    # get all the .png files in the folder\n",
    "    files = [f for f in os.listdir(folder_path) if f.endswith('.png')]\n",
    "    files.sort()\n",
    "    \n",
    "    # open all the images\n",
    "    images = [Image.open(os.path.join(folder_path, f)) for f in files]\n",
    "    \n",
    "    # get the size of the images\n",
    "    width, height = images[0].size\n",
    "    total_width = 2 * width\n",
    "    total_height = 2 * height\n",
    "    \n",
    "    # create a new image with the size of the merged image\n",
    "    new_image = Image.new('RGB', (total_width, total_height))\n",
    "    \n",
    "    # paste the images to the new image\n",
    "    new_image.paste(images[0], (0, 0))\n",
    "    new_image.paste(images[1], (width, 0))\n",
    "    new_image.paste(images[2], (0, height))\n",
    "    new_image.paste(images[3], (width, height))\n",
    "    \n",
    "    # save the new image\n",
    "    new_image.save(output_path)\n",
    "    print('Images merged and saved to ' + output_path)\n",
    "    \n",
    "merge_images_of_four(os.path.join(\"../oos_game_figs/game\"), os.path.join(\"../oos_game_figs\", \"game_distribution.png\"))"
   ]
  },
  {
   "cell_type": "code",
   "execution_count": 65,
   "metadata": {},
   "outputs": [
    {
     "data": {
      "image/png": "[encoded data removed]",
      "text/plain": [
       "<Figure size 800x400 with 1 Axes>"
      ]
     },
     "metadata": {},
     "output_type": "display_data"
    }
   ],
   "source": [
    "# for each game and context, the goal of finetuning was to reach the results of the 70b model\n",
    "# so the initial model is 7b_org, the finetuned model is 7b_finetuned, and the target model is 70b\n",
    "# given this, compare the progress of 7b_org and 7b_finetuned towards 70b by this formula:\n",
    "# progress = (7b_finetuned - 7b_org) / (70b - 7b_org) * 100\n",
    "\n",
    "def compare_progress(all_data, new_keys):\n",
    "    my_dpi = 96\n",
    "    plt.figure(figsize=(800/my_dpi, 400/my_dpi), dpi=my_dpi)\n",
    "\n",
    "    # plt.figure(figsize=(10, 5))\n",
    "    bar_width = 0.2\n",
    "    bar_positions = []\n",
    "\n",
    "    progress = [(all_data['7b-fined'][key]['  C'] - all_data['7b-fixed'][key]['  C']) / (all_data['70b-fixed'][key]['  C'] - all_data['7b-fixed'][key]['  C']) * 100 for key in keys]\n",
    "    x = [pos for pos in range(len(keys))]  \n",
    "    \n",
    "    # drop these keys from x and progress\n",
    "    # environment_staghunt_oos, environment_delight_oos, friendsharing_staghunt_oos, friendsharing_delight_oos\n",
    "    new_keys.remove('environment_staghunt_oos')\n",
    "    new_keys.remove('environment_delight_oos')\n",
    "    new_keys.remove('friendsharing_staghunt_oos')\n",
    "    new_keys.remove('friendsharing_delight_oos')\n",
    "    new_keys.remove('team_staghunt_oos')\n",
    "    progress.pop(keys.index('environment_staghunt_oos'))\n",
    "    progress.pop(keys.index('environment_delight_oos'))\n",
    "    progress.pop(keys.index('friendsharing_staghunt_oos'))\n",
    "    progress.pop(keys.index('friendsharing_delight_oos'))\n",
    "    progress.pop(keys.index('team_staghunt_oos'))\n",
    "    \n",
    "    # set the x positions for bars\n",
    "    x = [pos for pos in range(len(new_keys))]\n",
    "    \n",
    "    \n",
    "    \n",
    "          \n",
    "    plt.bar(x, progress, width=bar_width, alpha=0.5, label='Improvement', color='blue')\n",
    "    # draw a line at y=100\n",
    "    # plt.axhline(y=100, color='red', linestyle='--', label='100%')\n",
    "    # plot logaritmic scale\n",
    "    # plt.yscale('log')\n",
    "    # plt.axhline(y=0, color='black', linestyle='--', label='0%')\n",
    "    plt.xticks([pos for pos in range(len(new_keys))], new_keys, rotation=90)\n",
    "    plt.xlabel('Game')\n",
    "    plt.ylabel('Improvement (%)')\n",
    "    plt.title('Relative Change in Cooperation per Game and Context')\n",
    "    plt.legend(loc='best')\n",
    "    # plt.savefig(os.path.join(\"../oos_game_figs\", \"improvement.png\"), dpi=my_dpi)\n",
    "    plt.show()\n",
    "    \n",
    "new_keys = keys.copy()\n",
    "compare_progress(all_data, new_keys)"
   ]
  },
  {
   "cell_type": "code",
   "execution_count": 42,
   "metadata": {},
   "outputs": [
    {
     "name": "stdout",
     "output_type": "stream",
     "text": [
      "{'Game': ['team_prison_oos', 'team_delight_oos', 'team_staghunt_oos', 'team_snowdrift_oos', 'IR_prison_oos', 'IR_delight_oos', 'IR_staghunt_oos', 'IR_snowdrift_oos', 'friendsharing_prison_oos', 'friendsharing_delight_oos', 'friendsharing_staghunt_oos', 'friendsharing_snowdrift_oos', 'biz_prison_oos', 'biz_delight_oos', 'biz_staghunt_oos', 'biz_snowdrift_oos', 'environment_prison_oos', 'environment_delight_oos', 'environment_staghunt_oos', 'environment_snowdrift_oos'], 'Improvement (%)': [-0.7246376811594203, 11.940298507462686, -17.857142857142858, 6.756756756756757, 10.95890410958904, 34.12698412698413, 26.865671641791046, 23.214285714285715, -0.8695652173913043, -500.0, 140.0, 6.976744186046512, 12.992125984251967, 20.903954802259886, 9.803921568627452, 19.318181818181817, 43.75, 305.2631578947369, 1533.3333333333335, 53.76344086021505]}\n",
      "Table saved to improvement_table.csv\n",
      "Mean: 87.02582077744144\n",
      "Median: 16.15515390121689\n",
      "Standard deviation: 367.88220090034105\n"
     ]
    }
   ],
   "source": [
    "# visualize the progress of 7b_org and 7b_finetuned towards 70b in a table\n",
    "\n",
    "def compare_progress_table(all_data, keys):\n",
    "    progress = [(all_data['7b-fined'][key]['  C'] - all_data['7b-fixed'][key]['  C']) / (all_data['70b-fixed'][key]['  C'] - all_data['7b-fixed'][key]['  C']) * 100 for key in keys]\n",
    "    new_keys = keys.copy()\n",
    "    # # drop these keys from x and progress\n",
    "    # # environment_staghunt_oos, environment_delight_oos, friendsharing_staghunt_oos, friendsharing_delight_oos\n",
    "    # new_keys.remove('environment_staghunt_oos')\n",
    "    # new_keys.remove('environment_delight_oos')\n",
    "    # new_keys.remove('friendsharing_staghunt_oos')\n",
    "    # new_keys.remove('friendsharing_delight_oos')\n",
    "    # progress.pop(keys.index('environment_staghunt_oos'))\n",
    "    # progress.pop(keys.index('environment_delight_oos'))\n",
    "    # progress.pop(keys.index('friendsharing_staghunt_oos'))\n",
    "    # progress.pop(keys.index('friendsharing_delight_oos'))\n",
    "    \n",
    "    # create a table\n",
    "    table = {}\n",
    "    table['Game'] = new_keys\n",
    "    table['Improvement (%)'] = progress\n",
    "    return table\n",
    "\n",
    "table = compare_progress_table(all_data, keys)\n",
    "print(table)\n",
    "\n",
    "# visualize the table\n",
    "import pandas as pd\n",
    "\n",
    "df = pd.DataFrame(table)\n",
    "df.to_csv(os.path.join(\"../oos_game_figs\", \"improvement_table.csv\"), index=False)\n",
    "print('Table saved to improvement_table.csv')\n",
    "\n",
    "# print the mean and standard deviation of the progress\n",
    "print('Mean:', df['Improvement (%)'].mean())\n",
    "print('Median:', df['Improvement (%)'].median())\n",
    "print('Standard deviation:', df['Improvement (%)'].std())"
   ]
  },
  {
   "cell_type": "code",
   "execution_count": null,
   "metadata": {},
   "outputs": [],
   "source": []
  }
 ],
 "metadata": {
  "kernelspec": {
   "display_name": "Python 3",
   "language": "python",
   "name": "python3"
  },
  "language_info": {
   "codemirror_mode": {
    "name": "ipython",
    "version": 3
   },
   "file_extension": ".py",
   "mimetype": "text/x-python",
   "name": "python",
   "nbconvert_exporter": "python",
   "pygments_lexer": "ipython3",
   "version": "3.11.5"
  }
 },
 "nbformat": 4,
 "nbformat_minor": 2
}
