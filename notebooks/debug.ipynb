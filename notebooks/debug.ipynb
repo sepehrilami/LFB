{
 "cells": [
  {
   "cell_type": "code",
   "execution_count": 10,
   "metadata": {},
   "outputs": [
    {
     "name": "stdout",
     "output_type": "stream",
     "text": [
      "<class 'dict'>\n",
      "dict_keys(['IR_delight', 'IR_prison', 'IR_snowdrift', 'IR_staghunt', 'biz_delight', 'biz_prison', 'biz_snowdrift', 'biz_staghunt', 'environment_delight', 'environment_prison', 'environment_snowdrift', 'environment_staghunt', 'friendsharing_delight', 'friendsharing_prison', 'friendsharing_snowdrift', 'friendsharing_staghunt', 'team_delight', 'team_prison', 'team_snowdrift', 'team_staghunt'])\n"
     ]
    }
   ],
   "source": [
    "import matplotlib.pyplot as plt\n",
    "import numpy as np\n",
    "import pickle \n",
    "import re\n",
    "import os\n",
    "\n",
    "from PIL import Image\n",
    "\n",
    "\n",
    "# Sample data dictionary (replace this with your actual data)\n",
    "\n",
    "llm = 'new-7b-fixed'\n",
    "\n",
    "data = pickle.load(open(os.path.join(\"../\", 'test-llama3-pickle.txt'), \"rb\" ))\n",
    "\n",
    "# data type\n",
    "print(type(data))\n",
    "\n",
    "# data info\n",
    "print(data.keys())\n"
   ]
  },
  {
   "cell_type": "code",
   "execution_count": 11,
   "metadata": {},
   "outputs": [],
   "source": [
    "# check for invalid values\n",
    "for key in data.keys():\n",
    "    for item in data[key]:\n",
    "        if item != '  C' and item != '  D':\n",
    "            print(key, item)"
   ]
  },
  {
   "cell_type": "code",
   "execution_count": 12,
   "metadata": {},
   "outputs": [
    {
     "data": {
      "text/plain": [
       "{'IR_delight': {'  C': 18, '  D': 282},\n",
       " 'IR_prison': {'  D': 300},\n",
       " 'IR_snowdrift': {'  D': 300},\n",
       " 'IR_staghunt': {'  D': 300},\n",
       " 'biz_delight': {'  C': 14, '  D': 286},\n",
       " 'biz_prison': {'  D': 300},\n",
       " 'biz_snowdrift': {'  D': 300},\n",
       " 'biz_staghunt': {'  C': 1, '  D': 299},\n",
       " 'environment_delight': {'  C': 10, '  D': 290},\n",
       " 'environment_prison': {'  D': 300},\n",
       " 'environment_snowdrift': {'  D': 300},\n",
       " 'environment_staghunt': {'  D': 300},\n",
       " 'friendsharing_delight': {'  C': 30, '  D': 270},\n",
       " 'friendsharing_prison': {'  C': 2, '  D': 298},\n",
       " 'friendsharing_snowdrift': {'  D': 300},\n",
       " 'friendsharing_staghunt': {'  C': 6, '  D': 294},\n",
       " 'team_delight': {'  D': 300},\n",
       " 'team_prison': {'  D': 300},\n",
       " 'team_snowdrift': {'  D': 300},\n",
       " 'team_staghunt': {'  D': 300}}"
      ]
     },
     "execution_count": 12,
     "metadata": {},
     "output_type": "execute_result"
    }
   ],
   "source": [
    "# create a function to show the distribution of the data\n",
    "# return a dictionary, with keys as the keys of the input dictionary, and values as the distribution of the data\n",
    "def show_distribution(data):\n",
    "    distribution = {}\n",
    "    for key in data.keys():\n",
    "        distribution[key] = {}\n",
    "        for item in data[key]:\n",
    "            if item not in distribution[key]:\n",
    "                distribution[key][item] = 1\n",
    "            else:\n",
    "                distribution[key][item] += 1\n",
    "    return distribution\n",
    "\n",
    "# show the distribution of the data\n",
    "distribution = show_distribution(data)\n",
    "distribution"
   ]
  },
  {
   "cell_type": "code",
   "execution_count": 20,
   "metadata": {},
   "outputs": [
    {
     "name": "stdout",
     "output_type": "stream",
     "text": [
      "1193\n",
      "Starting IR context in delight_oos game...\n",
      "\n",
      "\n",
      "\n",
      "\n",
      "Starting IR context in prison_oos game...\n",
      "\n",
      "\n",
      "\n",
      "\n",
      "Starting IR context in snowdrift_oos game...\n",
      "\n",
      "\n",
      "\n",
      "\n",
      "Starting IR context in staghunt_oos game...\n",
      "\n",
      "\n",
      "\n",
      "\n",
      "{'  C': 261, '  D': 39}\n",
      "{'  C': 257, '  D': 43}\n",
      "{'  C': 265, '  D': 35}\n",
      "{'  C': 244, '  D': 33}\n"
     ]
    }
   ],
   "source": [
    "# now, read a txt file named outputttt.txt\n",
    "# and replace all lines like: \"iteration {any_number} done. rz:   C\" with C\n",
    "# and all lines like: \"iteration {any_number} done. rz:   D\" with D\n",
    "\n",
    "# read the outputttt.txt file\n",
    "with open(os.path.join(\"../\", \"outputtt.txt\"), \"r\") as file:\n",
    "    lines = file.readlines()\n",
    "\n",
    "# replace the lines\n",
    "for i in range(len(lines)):\n",
    "    lines[i] = re.sub(r\"iteration \\d+ done. rz:   C\", \"  C\", lines[i])\n",
    "    lines[i] = re.sub(r\"iteration \\d+ done. rz:   D\", \"  D\", lines[i])\n",
    "    \n",
    "# get the number of lines\n",
    "\n",
    "# remove lines with: reached {any_number} iterations\n",
    "for i in range(len(lines)):\n",
    "    # remove the line\n",
    "    block_words = [\"reached\"]\n",
    "    if any(word in lines[i] for word in block_words):\n",
    "        lines[i] = \"\"\n",
    "        \n",
    "print(len(lines))\n",
    "\n",
    "for line in lines:\n",
    "    if \"  C\" not in line and \"  D\" not in line:\n",
    "        print(line)\n",
    "        \n",
    "IR_delight_oos = {\"  C\": 0, \"  D\": 0}\n",
    "for i in range(304):\n",
    "    if \"  C\" in lines[i]:\n",
    "        IR_delight_oos[\"  C\"] += 1\n",
    "    elif \"  D\" in lines[i]:\n",
    "        IR_delight_oos[\"  D\"] += 1\n",
    "print(IR_delight_oos)\n",
    "\n",
    "IR_prison_oos = {\"  C\": 0, \"  D\": 0}\n",
    "for i in range(304, 608):\n",
    "    if \"  C\" in lines[i]:\n",
    "        IR_prison_oos[\"  C\"] += 1\n",
    "    elif \"  D\" in lines[i]:\n",
    "        IR_prison_oos[\"  D\"] += 1\n",
    "print(IR_prison_oos)\n",
    "\n",
    "IR_snowdrift_oos = {\"  C\": 0, \"  D\": 0}\n",
    "for i in range(608, 912):\n",
    "    if \"  C\" in lines[i]:\n",
    "        IR_snowdrift_oos[\"  C\"] += 1\n",
    "    elif \"  D\" in lines[i]:\n",
    "        IR_snowdrift_oos[\"  D\"] += 1\n",
    "print(IR_snowdrift_oos)\n",
    "\n",
    "IR_staghunt_oos = {\"  C\": 0, \"  D\": 0}\n",
    "for i in range(912, 1193):\n",
    "    if \"  C\" in lines[i]:\n",
    "        IR_staghunt_oos[\"  C\"] += 1\n",
    "    elif \"  D\" in lines[i]:\n",
    "        IR_staghunt_oos[\"  D\"] += 1\n",
    "print(IR_staghunt_oos)"
   ]
  },
  {
   "cell_type": "code",
   "execution_count": 5,
   "metadata": {},
   "outputs": [],
   "source": [
    "# Write this dictionary of dictionaries to a pickle file\n",
    "updated_dist = {'IR_delight_oos': {'  C': 261, '  D': 39},\n",
    "                'IR_prison_oos': {'  C': 257, '  D': 43},\n",
    "                'IR_snowdrift_oos': {'  C': 265, '  D': 35},\n",
    "                'IR_staghunt_oos': {'  C': 264, '  D': 36}}\n",
    "\n",
    "# Write this dictionary of dictionaries to a pickle file\n",
    "# with open(os.path.join(\"../\", llm+\"-results-oos-updated.txt\"), \"wb\") as file:\n",
    "#     pickle.dump(updated_dist, file)"
   ]
  },
  {
   "cell_type": "code",
   "execution_count": 6,
   "metadata": {},
   "outputs": [
    {
     "name": "stdout",
     "output_type": "stream",
     "text": [
      "['  D', '  D', '  D', '  D', '  D', '  D', '  D', '  D', '  D', '  D', '  D', '  D', '  D', '  D', '  D', '  D', '  D', '  D', '  D', '  D', '  D', '  D', '  D', '  D', '  D', '  D', '  D', '  D', '  D', '  D', '  D', '  D', '  D', '  D', '  D', '  D', '  D', '  D', '  D', '  D', '  D', '  D', '  D', '  D', '  D', '  D', '  D', '  D', '  D', '  D', '  D', '  D', '  D', '  D', '  D', '  D', '  D', '  D', '  D', '  D', '  D', '  D', '  D', '  D', '  D', '  D', '  D', '  D', '  D', '  D', '  D', '  D', '  D', '  D', '  D', '  D', '  D', '  D', '  D', '  D', '  D', '  D', '  D', '  D', '  D', '  D', '  D', '  D', '  D', '  D', '  D', '  D', '  D', '  D', '  D', '  D', '  D', '  D', '  D', '  D', '  D', '  D', '  D', '  D', '  D', '  D', '  D', '  D', '  D', '  D', '  D', '  D', '  D', '  D', '  D', '  D', '  D', '  D', '  D', '  D', '  D', '  D', '  D', '  D', '  D', '  D', '  D', '  D', '  D', '  D', '  D', '  D', '  D', '  D', '  D', '  D', '  D', '  D', '  D', '  D', '  D', '  D', '  D', '  D', '  D', '  D', '  D', '  D', '  D', '  D', '  D', '  D', '  D', '  D', '  D', '  D', '  D', '  D', '  D', '  D', '  D', '  D', '  D', '  D', '  D', '  D', '  D', '  D', '  D', '  D', '  D', '  D', '  D', '  D', '  D', '  D', '  D', '  D', '  D', '  D', '  D', '  D', '  D', '  D', '  D', '  D', '  D', '  D', '  D', '  D', '  D', '  D', '  D', '  D', '  D', '  D', '  D', '  D', '  D', '  D', '  D', '  D', '  D', '  D', '  D', '  D', '  D', '  D', '  D', '  D', '  D', '  D', '  D', '  D', '  D', '  D', '  D', '  D', '  D', '  D', '  D', '  D', '  D', '  D', '  D', '  D', '  D', '  D', '  D', '  D', '  D', '  D', '  D', '  D', '  D', '  D', '  D', '  D', '  D', '  D', '  D', '  D', '  D', '  D', '  D', '  D', '  D', '  D', '  D', '  D', '  D', '  D', '  D', '  D', '  D', '  D', '  D', '  D', '  D', '  D', '  D', '  D', '  D', '  D', '  D', '  D', '  D', '  D', '  D', '  D', '  D', '  D', '  D', '  D', '  D', '  D', '  D', '  D', '  D', '  D', '  D', '  D', '  D', '  D', '  D', '  D', '  D', '  D', '  D', '  D', '  D', '  D', '  D', '  D', '  D', '  D', '  D', '  D', '  D', '  D']\n"
     ]
    }
   ],
   "source": [
    "filename = 'test-llama3-pickle.txt'\n",
    "results_7b = {}\n",
    "\n",
    "scenarios = ['IR', 'biz', 'environment', 'friendsharing', 'team']\n",
    "games = ['delight', 'prison', 'snowdrift', 'staghunt']\n",
    "for scenario in scenarios:\n",
    "    for game in games:\n",
    "        results = []\n",
    "        results_7b[scenario + \"_\" + game] = {}\n",
    "        for key in updated_dist[scenario + \"_\" + game].keys():\n",
    "            \n",
    "            if key == \"  C\":\n",
    "                for i in range(updated_dist[scenario + \"_\" + game][key]):\n",
    "                    results.append(\"  C\")\n",
    "                # results_7b[scenario + \"_\" + game][key] = updated_dist[scenario + \"_\" + game][key]\n",
    "            elif key == \"  D\":\n",
    "                for i in range(updated_dist[scenario + \"_\" + game][key]):\n",
    "                    results.append(\"  D\")\n",
    "                # results_7b[scenario + \"_\" + game][key] = updated_dist[scenario + \"_\" + game][key]\n",
    "        results_7b.update({scenario+\"_\"+game:results})\n",
    "        with open(os.path.join(\"../\", filename), 'wb') as file:\n",
    "            pickle.dump(results_7b, file)\n",
    "print(results)\n",
    "        \n"
   ]
  },
  {
   "cell_type": "code",
   "execution_count": null,
   "metadata": {},
   "outputs": [],
   "source": []
  }
 ],
 "metadata": {
  "language_info": {
   "name": "python"
  }
 },
 "nbformat": 4,
 "nbformat_minor": 2
}
