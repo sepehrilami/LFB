{
 "cells": [
  {
   "cell_type": "code",
   "execution_count": 79,
   "metadata": {},
   "outputs": [
    {
     "name": "stdout",
     "output_type": "stream",
     "text": [
      "<class 'dict'>\n",
      "dict_keys(['sports_prison', 'sports_delight', 'sports_staghunt', 'sports_snowdrift', 'roomsharing_prison', 'roomsharing_delight', 'roomsharing_staghunt', 'roomsharing_snowdrift', 'ventcap_prison', 'ventcap_delight', 'ventcap_staghunt', 'ventcap_snowdrift'])\n",
      "600\n"
     ]
    }
   ],
   "source": [
    "import matplotlib.pyplot as plt\n",
    "import numpy as np\n",
    "import pickle \n",
    "import re\n",
    "import os\n",
    "\n",
    "from PIL import Image\n",
    "\n",
    "\n",
    "# Sample data dictionary (replace this with your actual data)\n",
    "\n",
    "llm = 'new-7b-fixed'\n",
    "\n",
    "data = pickle.load(open(os.path.join(\"../\", llm+\"-results-oos.txt\"), \"rb\" ))\n",
    "\n",
    "# data type\n",
    "print(type(data))\n",
    "\n",
    "# data info\n",
    "print(data.keys())\n",
    "\n",
    "print(len(data['sports_prison']))"
   ]
  },
  {
   "cell_type": "code",
   "execution_count": 74,
   "metadata": {},
   "outputs": [],
   "source": [
    "# check for invalid values\n",
    "for key in data.keys():\n",
    "    for item in data[key]:\n",
    "        if item != '  C' and item != '  D':\n",
    "            print(key, item)"
   ]
  },
  {
   "cell_type": "code",
   "execution_count": 75,
   "metadata": {},
   "outputs": [
    {
     "data": {
      "text/plain": [
       "{'sports_prison': {'  C': 478, '  D': 122},\n",
       " 'sports_delight': {'  C': 468, '  D': 132},\n",
       " 'sports_staghunt': {'  C': 476, '  D': 124},\n",
       " 'sports_snowdrift': {'  C': 474, '  D': 126},\n",
       " 'roomsharing_prison': {'  C': 522, '  D': 78},\n",
       " 'roomsharing_delight': {'  C': 522, '  D': 78},\n",
       " 'roomsharing_staghunt': {'  C': 528, '  D': 72},\n",
       " 'roomsharing_snowdrift': {'  C': 496, '  D': 104},\n",
       " 'ventcap_prison': {'  C': 490, '  D': 110},\n",
       " 'ventcap_delight': {'  D': 112, '  C': 488},\n",
       " 'ventcap_staghunt': {'  C': 234, '  D': 66},\n",
       " 'ventcap_snowdrift': {'  C': 258, '  D': 42}}"
      ]
     },
     "execution_count": 75,
     "metadata": {},
     "output_type": "execute_result"
    }
   ],
   "source": [
    "# create a function to show the distribution of the data\n",
    "# return a dictionary, with keys as the keys of the input dictionary, and values as the distribution of the data\n",
    "def show_distribution(data):\n",
    "    distribution = {}\n",
    "    for key in data.keys():\n",
    "        distribution[key] = {}\n",
    "        for item in data[key]:\n",
    "            if item not in distribution[key]:\n",
    "                distribution[key][item] = 1\n",
    "            else:\n",
    "                distribution[key][item] += 1\n",
    "    return distribution\n",
    "\n",
    "# show the distribution of the data\n",
    "distribution = show_distribution(data)\n",
    "distribution"
   ]
  },
  {
   "cell_type": "code",
   "execution_count": 76,
   "metadata": {},
   "outputs": [
    {
     "name": "stdout",
     "output_type": "stream",
     "text": [
      "608\n",
      "Starting ventcap context in staghunt game...\n",
      "\n",
      "\n",
      "\n",
      "\n",
      "Starting ventcap context in snowdrift game...\n",
      "\n",
      "\n",
      "\n",
      "\n",
      "{'  C': 234, '  D': 66}\n",
      "{'  C': 258, '  D': 42}\n"
     ]
    }
   ],
   "source": [
    "# now, read a txt file named outputttt.txt\n",
    "# and replace all lines like: \"iteration {any_number} done. rz:   C\" with C\n",
    "# and all lines like: \"iteration {any_number} done. rz:   D\" with D\n",
    "\n",
    "# read the outputttt.txt file\n",
    "with open(os.path.join(\"../\", \"outputttt.txt\"), \"r\") as file:\n",
    "    lines = file.readlines()\n",
    "\n",
    "# replace the lines\n",
    "for i in range(len(lines)):\n",
    "    lines[i] = re.sub(r\"iteration \\d+ done. rz:   C\", \"  C\", lines[i])\n",
    "    lines[i] = re.sub(r\"iteration \\d+ done. rz:   D\", \"  D\", lines[i])\n",
    "    \n",
    "# get the number of lines\n",
    "\n",
    "# remove lines with: reached {any_number} iterations\n",
    "for i in range(len(lines)):\n",
    "    # remove the line\n",
    "    if \"reached\" in lines[i]:\n",
    "        # delete the line\n",
    "        lines[i] = \"\"\n",
    "print(len(lines))\n",
    "\n",
    "for line in lines:\n",
    "    if \"  C\" not in line and \"  D\" not in line:\n",
    "        print(line)\n",
    "        \n",
    "ventcap_staghunt = {\"  C\": 0, \"  D\": 0}\n",
    "for i in range(304):\n",
    "    if \"  C\" in lines[i]:\n",
    "        ventcap_staghunt[\"  C\"] += 1\n",
    "    elif \"  D\" in lines[i]:\n",
    "        ventcap_staghunt[\"  D\"] += 1\n",
    "print(ventcap_staghunt)\n",
    "\n",
    "ventcap_snowdrift = {\"  C\": 0, \"  D\": 0}\n",
    "for i in range(304, 608):\n",
    "    if \"  C\" in lines[i]:\n",
    "        ventcap_snowdrift[\"  C\"] += 1\n",
    "    elif \"  D\" in lines[i]:\n",
    "        ventcap_snowdrift[\"  D\"] += 1\n",
    "print(ventcap_snowdrift)"
   ]
  },
  {
   "cell_type": "code",
   "execution_count": 59,
   "metadata": {},
   "outputs": [],
   "source": [
    "# Write this dictionary of dictionaries to a pickle file\n",
    "updated_dist = {'sports_prison': {'  C': 478, '  D': 122},\n",
    "                'sports_delight': {'  C': 468, '  D': 132},\n",
    "                'sports_staghunt': {'  C': 476, '  D': 124},\n",
    "                'sports_snowdrift': {'  C': 474, '  D': 126},\n",
    "                'roomsharing_prison': {'  C': 522, '  D': 78},\n",
    "                'roomsharing_delight': {'  C': 522, '  D': 78},\n",
    "                'roomsharing_staghunt': {'  C': 528, '  D': 72},\n",
    "                'roomsharing_snowdrift': {'  C': 496, '  D': 104},\n",
    "                'ventcap_prison': {'  C': 490, '  D': 110},\n",
    "                'ventcap_delight': {'  D': 112, '  C': 488},\n",
    "                'ventcap_staghunt': {'  C': 234, '  D': 66},\n",
    "                'ventcap_snowdrift': {'  C': 258, '  D': 42}}\n",
    "\n",
    "# Write this dictionary of dictionaries to a pickle file\n",
    "# with open(os.path.join(\"../\", llm+\"-results-oos-updated.txt\"), \"wb\") as file:\n",
    "#     pickle.dump(updated_dist, file)"
   ]
  },
  {
   "cell_type": "code",
   "execution_count": 60,
   "metadata": {},
   "outputs": [
    {
     "name": "stdout",
     "output_type": "stream",
     "text": [
      "['  C', '  C', '  C', '  C', '  C', '  C', '  C', '  C', '  C', '  C', '  C', '  C', '  C', '  C', '  C', '  C', '  C', '  C', '  C', '  C', '  C', '  C', '  C', '  C', '  C', '  C', '  C', '  C', '  C', '  C', '  C', '  C', '  C', '  C', '  C', '  C', '  C', '  C', '  C', '  C', '  C', '  C', '  C', '  C', '  C', '  C', '  C', '  C', '  C', '  C', '  C', '  C', '  C', '  C', '  C', '  C', '  C', '  C', '  C', '  C', '  C', '  C', '  C', '  C', '  C', '  C', '  C', '  C', '  C', '  C', '  C', '  C', '  C', '  C', '  C', '  C', '  C', '  C', '  C', '  C', '  C', '  C', '  C', '  C', '  C', '  C', '  C', '  C', '  C', '  C', '  C', '  C', '  C', '  C', '  C', '  C', '  C', '  C', '  C', '  C', '  C', '  C', '  C', '  C', '  C', '  C', '  C', '  C', '  C', '  C', '  C', '  C', '  C', '  C', '  C', '  C', '  C', '  C', '  C', '  C', '  C', '  C', '  C', '  C', '  C', '  C', '  C', '  C', '  C', '  C', '  C', '  C', '  C', '  C', '  C', '  C', '  C', '  C', '  C', '  C', '  C', '  C', '  C', '  C', '  C', '  C', '  C', '  C', '  C', '  C', '  C', '  C', '  C', '  C', '  C', '  C', '  C', '  C', '  C', '  C', '  C', '  C', '  C', '  C', '  C', '  C', '  C', '  C', '  C', '  C', '  C', '  C', '  C', '  C', '  C', '  C', '  C', '  C', '  C', '  C', '  C', '  C', '  C', '  C', '  C', '  C', '  C', '  C', '  C', '  C', '  C', '  C', '  C', '  C', '  C', '  C', '  C', '  C', '  C', '  C', '  C', '  C', '  C', '  C', '  C', '  C', '  C', '  C', '  C', '  C', '  C', '  C', '  C', '  C', '  C', '  C', '  C', '  C', '  C', '  C', '  C', '  C', '  C', '  C', '  C', '  C', '  C', '  C', '  C', '  C', '  C', '  C', '  C', '  C', '  C', '  C', '  C', '  C', '  C', '  C', '  C', '  C', '  C', '  C', '  C', '  C', '  C', '  C', '  C', '  C', '  C', '  C', '  C', '  C', '  C', '  C', '  C', '  C', '  D', '  D', '  D', '  D', '  D', '  D', '  D', '  D', '  D', '  D', '  D', '  D', '  D', '  D', '  D', '  D', '  D', '  D', '  D', '  D', '  D', '  D', '  D', '  D', '  D', '  D', '  D', '  D', '  D', '  D', '  D', '  D', '  D', '  D', '  D', '  D', '  D', '  D', '  D', '  D', '  D', '  D']\n"
     ]
    }
   ],
   "source": [
    "filename = 'test-pickle.txt'\n",
    "results_7b = {}\n",
    "\n",
    "scenarios = ['sports', 'roomsharing', 'ventcap']\n",
    "games = ['prison', 'delight', 'staghunt', 'snowdrift']\n",
    "for scenario in scenarios:\n",
    "    for game in games:\n",
    "        results = []\n",
    "        results_7b[scenario + \"_\" + game] = {}\n",
    "        for key in updated_dist[scenario + \"_\" + game].keys():\n",
    "            \n",
    "            if key == \"  C\":\n",
    "                for i in range(updated_dist[scenario + \"_\" + game][key]):\n",
    "                    results.append(\"  C\")\n",
    "                # results_7b[scenario + \"_\" + game][key] = updated_dist[scenario + \"_\" + game][key]\n",
    "            elif key == \"  D\":\n",
    "                for i in range(updated_dist[scenario + \"_\" + game][key]):\n",
    "                    results.append(\"  D\")\n",
    "                # results_7b[scenario + \"_\" + game][key] = updated_dist[scenario + \"_\" + game][key]\n",
    "        results_7b.update({scenario+\"_\"+game:results})\n",
    "        with open(os.path.join(\"../\", filename), 'wb') as file:\n",
    "            pickle.dump(results_7b, file)\n",
    "print(results)\n",
    "        \n"
   ]
  },
  {
   "cell_type": "code",
   "execution_count": null,
   "metadata": {},
   "outputs": [],
   "source": []
  }
 ],
 "metadata": {
  "language_info": {
   "name": "python"
  }
 },
 "nbformat": 4,
 "nbformat_minor": 2
}
